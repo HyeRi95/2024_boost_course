{
 "cells": [
  {
   "cell_type": "markdown",
   "id": "b641d9a0-e266-40bf-af5d-bfc028a72426",
   "metadata": {},
   "source": [
    "# Zen of Python"
   ]
  },
  {
   "cell_type": "code",
   "execution_count": 1,
   "id": "20d11720-5f30-4973-949e-a20c197d1eb2",
   "metadata": {},
   "outputs": [
    {
     "name": "stdout",
     "output_type": "stream",
     "text": [
      "The Zen of Python, by Tim Peters\n",
      "\n",
      "Beautiful is better than ugly.\n",
      "Explicit is better than implicit.\n",
      "Simple is better than complex.\n",
      "Complex is better than complicated.\n",
      "Flat is better than nested.\n",
      "Sparse is better than dense.\n",
      "Readability counts.\n",
      "Special cases aren't special enough to break the rules.\n",
      "Although practicality beats purity.\n",
      "Errors should never pass silently.\n",
      "Unless explicitly silenced.\n",
      "In the face of ambiguity, refuse the temptation to guess.\n",
      "There should be one-- and preferably only one --obvious way to do it.\n",
      "Although that way may not be obvious at first unless you're Dutch.\n",
      "Now is better than never.\n",
      "Although never is often better than *right* now.\n",
      "If the implementation is hard to explain, it's a bad idea.\n",
      "If the implementation is easy to explain, it may be a good idea.\n",
      "Namespaces are one honking great idea -- let's do more of those!\n"
     ]
    }
   ],
   "source": [
    "# pep20\n",
    "import this"
   ]
  },
  {
   "cell_type": "markdown",
   "id": "e6a2b16c-54ae-4361-ba3b-b8368d44788e",
   "metadata": {},
   "source": [
    "# boolean\n",
    "* 파이썬에는 명시적인 것이 암시적인 것보다 낫다라는 철학이 있습니다.\n",
    "* True나 False는 0과 1로도 표현할 수 있으나 명시적으로 표현하기 위해 True와 False를 사용합니다."
   ]
  },
  {
   "cell_type": "code",
   "execution_count": 2,
   "id": "f65dff7e-e749-4c38-a482-76eb2e1ba50d",
   "metadata": {},
   "outputs": [
    {
     "data": {
      "text/plain": [
       "True"
      ]
     },
     "execution_count": 2,
     "metadata": {},
     "output_type": "execute_result"
    }
   ],
   "source": [
    "True"
   ]
  },
  {
   "cell_type": "code",
   "execution_count": 3,
   "id": "510315de-8256-4b48-b1f7-ec8fcb1f7230",
   "metadata": {},
   "outputs": [
    {
     "data": {
      "text/plain": [
       "False"
      ]
     },
     "execution_count": 3,
     "metadata": {},
     "output_type": "execute_result"
    }
   ],
   "source": [
    "False"
   ]
  },
  {
   "cell_type": "code",
   "execution_count": 4,
   "id": "1ac65088-020c-46a5-ba83-9fd9245c9bf9",
   "metadata": {},
   "outputs": [
    {
     "data": {
      "text/plain": [
       "True"
      ]
     },
     "execution_count": 4,
     "metadata": {},
     "output_type": "execute_result"
    }
   ],
   "source": [
    "True == 1 "
   ]
  },
  {
   "cell_type": "code",
   "execution_count": 5,
   "id": "f0657c26-cfe9-4667-853c-0e70d31cef4f",
   "metadata": {},
   "outputs": [
    {
     "data": {
      "text/plain": [
       "False"
      ]
     },
     "execution_count": 5,
     "metadata": {},
     "output_type": "execute_result"
    }
   ],
   "source": [
    "False == 1 "
   ]
  },
  {
   "cell_type": "code",
   "execution_count": 7,
   "id": "2182c4f2-f37a-4ae6-b1e0-f5848c1b05ac",
   "metadata": {},
   "outputs": [
    {
     "data": {
      "text/plain": [
       "False"
      ]
     },
     "execution_count": 7,
     "metadata": {},
     "output_type": "execute_result"
    }
   ],
   "source": [
    "True == '1'"
   ]
  },
  {
   "cell_type": "code",
   "execution_count": 6,
   "id": "7933f5e6-27b2-43a5-a01a-4788695d9712",
   "metadata": {},
   "outputs": [
    {
     "data": {
      "text/plain": [
       "False"
      ]
     },
     "execution_count": 6,
     "metadata": {},
     "output_type": "execute_result"
    }
   ],
   "source": [
    "True != 1 "
   ]
  },
  {
   "cell_type": "code",
   "execution_count": 8,
   "id": "91919900-f475-4e8f-b0df-fbb7147bb323",
   "metadata": {},
   "outputs": [
    {
     "data": {
      "text/plain": [
       "True"
      ]
     },
     "execution_count": 8,
     "metadata": {},
     "output_type": "execute_result"
    }
   ],
   "source": [
    "False == 0 "
   ]
  },
  {
   "cell_type": "code",
   "execution_count": 9,
   "id": "1ee56ded-3a4e-4191-a192-4e7cc4563896",
   "metadata": {},
   "outputs": [
    {
     "data": {
      "text/plain": [
       "False"
      ]
     },
     "execution_count": 9,
     "metadata": {},
     "output_type": "execute_result"
    }
   ],
   "source": [
    "False == '0'"
   ]
  },
  {
   "cell_type": "code",
   "execution_count": 10,
   "id": "b3c197ae-9005-4d7b-a928-c16b116edcc5",
   "metadata": {},
   "outputs": [
    {
     "data": {
      "text/plain": [
       "False"
      ]
     },
     "execution_count": 10,
     "metadata": {},
     "output_type": "execute_result"
    }
   ],
   "source": [
    "False != 0 "
   ]
  },
  {
   "cell_type": "code",
   "execution_count": 11,
   "id": "827322e1-b044-4ceb-9993-35fd25c500b6",
   "metadata": {},
   "outputs": [
    {
     "data": {
      "text/plain": [
       "True"
      ]
     },
     "execution_count": 11,
     "metadata": {},
     "output_type": "execute_result"
    }
   ],
   "source": [
    "True and True"
   ]
  },
  {
   "cell_type": "code",
   "execution_count": 12,
   "id": "8a13bde5-40d3-4940-800f-e6f8bdfeb69b",
   "metadata": {},
   "outputs": [
    {
     "data": {
      "text/plain": [
       "True"
      ]
     },
     "execution_count": 12,
     "metadata": {},
     "output_type": "execute_result"
    }
   ],
   "source": [
    "True or False"
   ]
  },
  {
   "cell_type": "markdown",
   "id": "9a7dad87-fd44-4070-ab87-fc6fed92aa07",
   "metadata": {},
   "source": [
    "# Number and String \n",
    "* 숫자 1과 문자 \"1\"은 다릅니다. 숫자 1과 문자1의 데이터 타입을 출력해보세요.\n",
    "* 데이터 타입을 표현할 때 type을 통해 데이터를 출력"
   ]
  },
  {
   "cell_type": "code",
   "execution_count": 13,
   "id": "6962d6ae-8eee-4ee9-9fd5-07e618ef0ea8",
   "metadata": {},
   "outputs": [
    {
     "data": {
      "text/plain": [
       "1"
      ]
     },
     "execution_count": 13,
     "metadata": {},
     "output_type": "execute_result"
    }
   ],
   "source": [
    "1"
   ]
  },
  {
   "cell_type": "code",
   "execution_count": 14,
   "id": "dfb93067-1211-499d-9131-859e91fdf2ea",
   "metadata": {},
   "outputs": [
    {
     "data": {
      "text/plain": [
       "'1'"
      ]
     },
     "execution_count": 14,
     "metadata": {},
     "output_type": "execute_result"
    }
   ],
   "source": [
    "'1'"
   ]
  },
  {
   "cell_type": "code",
   "execution_count": 15,
   "id": "d32c2831-9b04-48bf-bdc2-cdc84050c06b",
   "metadata": {},
   "outputs": [
    {
     "data": {
      "text/plain": [
       "int"
      ]
     },
     "execution_count": 15,
     "metadata": {},
     "output_type": "execute_result"
    }
   ],
   "source": [
    "type(1)"
   ]
  },
  {
   "cell_type": "code",
   "execution_count": 16,
   "id": "e86ff6f5-b9a8-4476-8b64-c1c00a7b41cc",
   "metadata": {},
   "outputs": [
    {
     "data": {
      "text/plain": [
       "str"
      ]
     },
     "execution_count": 16,
     "metadata": {},
     "output_type": "execute_result"
    }
   ],
   "source": [
    "type('1')"
   ]
  },
  {
   "cell_type": "code",
   "execution_count": 17,
   "id": "4dc80a43-5405-4c7c-b51d-4a630f9487ef",
   "metadata": {},
   "outputs": [
    {
     "data": {
      "text/plain": [
       "False"
      ]
     },
     "execution_count": 17,
     "metadata": {},
     "output_type": "execute_result"
    }
   ],
   "source": [
    "1 == '1'"
   ]
  },
  {
   "cell_type": "markdown",
   "id": "576c6b90-fba7-4601-acaf-315bcbbe1f81",
   "metadata": {},
   "source": [
    "# Strings and Lists"
   ]
  },
  {
   "cell_type": "code",
   "execution_count": 19,
   "id": "5162d644-224c-4d44-bfb9-cb2ef682054d",
   "metadata": {},
   "outputs": [
    {
     "data": {
      "text/plain": [
       "'Hello World!'"
      ]
     },
     "execution_count": 19,
     "metadata": {},
     "output_type": "execute_result"
    }
   ],
   "source": [
    "'Hello World!'"
   ]
  },
  {
   "cell_type": "code",
   "execution_count": 20,
   "id": "780fed72-3466-4e50-aea0-526b5a0fe009",
   "metadata": {},
   "outputs": [
    {
     "data": {
      "text/plain": [
       "'경기도 성남시 분당구'"
      ]
     },
     "execution_count": 20,
     "metadata": {},
     "output_type": "execute_result"
    }
   ],
   "source": [
    "'경기도 성남시 분당구'"
   ]
  },
  {
   "cell_type": "markdown",
   "id": "0e1148fe-8ef7-4908-8cfc-a4d3c620db7c",
   "metadata": {},
   "source": [
    "#### 연산자기능\n",
    "* ==  : 비교연산\n",
    "*  =   : 할당연산"
   ]
  },
  {
   "cell_type": "code",
   "execution_count": 21,
   "id": "370d2c5a-09da-482f-b757-2d0b8772998e",
   "metadata": {},
   "outputs": [
    {
     "data": {
      "text/plain": [
       "'Today I Learned'"
      ]
     },
     "execution_count": 21,
     "metadata": {},
     "output_type": "execute_result"
    }
   ],
   "source": [
    "til = 'Today I Learned'\n",
    "til"
   ]
  },
  {
   "cell_type": "code",
   "execution_count": 22,
   "id": "f7badd26-a8b3-460f-9cda-29ce8289929f",
   "metadata": {},
   "outputs": [
    {
     "data": {
      "text/plain": [
       "'today i learned'"
      ]
     },
     "execution_count": 22,
     "metadata": {},
     "output_type": "execute_result"
    }
   ],
   "source": [
    "til.lower()"
   ]
  },
  {
   "cell_type": "code",
   "execution_count": 24,
   "id": "e877ccb6-b8ff-4f62-bdfd-364eaac6c7c6",
   "metadata": {},
   "outputs": [
    {
     "data": {
      "text/plain": [
       "'TODAY I LEARNED'"
      ]
     },
     "execution_count": 24,
     "metadata": {},
     "output_type": "execute_result"
    }
   ],
   "source": [
    "til.upper()"
   ]
  },
  {
   "cell_type": "markdown",
   "id": "9f941992-c659-4728-8ad4-aad503b2475a",
   "metadata": {},
   "source": [
    "# Lists"
   ]
  },
  {
   "cell_type": "code",
   "execution_count": 30,
   "id": "f9f2443d-c4d7-44ee-99d8-0aa30e8ad62b",
   "metadata": {},
   "outputs": [
    {
     "data": {
      "text/plain": [
       "[]"
      ]
     },
     "execution_count": 30,
     "metadata": {},
     "output_type": "execute_result"
    }
   ],
   "source": [
    "lang = []\n",
    "lang"
   ]
  },
  {
   "cell_type": "code",
   "execution_count": 31,
   "id": "d89bd987-215b-48fa-8ec2-7bab2aad0aaf",
   "metadata": {},
   "outputs": [
    {
     "data": {
      "text/plain": [
       "['python', 'java', 'c']"
      ]
     },
     "execution_count": 31,
     "metadata": {},
     "output_type": "execute_result"
    }
   ],
   "source": [
    "lang.append('python')\n",
    "lang.append('java')\n",
    "lang.append('c')\n",
    "lang"
   ]
  },
  {
   "cell_type": "code",
   "execution_count": 33,
   "id": "bda53e07-41e3-4185-a3f9-57532362b6b5",
   "metadata": {},
   "outputs": [
    {
     "data": {
      "text/plain": [
       "'python'"
      ]
     },
     "execution_count": 33,
     "metadata": {},
     "output_type": "execute_result"
    }
   ],
   "source": [
    "lang[0]"
   ]
  },
  {
   "cell_type": "code",
   "execution_count": 34,
   "id": "a496ec58-526e-41ee-b266-11e1cfbf18ce",
   "metadata": {},
   "outputs": [
    {
     "data": {
      "text/plain": [
       "'java'"
      ]
     },
     "execution_count": 34,
     "metadata": {},
     "output_type": "execute_result"
    }
   ],
   "source": [
    "lang[1]"
   ]
  },
  {
   "cell_type": "code",
   "execution_count": 36,
   "id": "9d2f500b-a040-4dff-9f60-3bc82e91e755",
   "metadata": {},
   "outputs": [
    {
     "data": {
      "text/plain": [
       "'c'"
      ]
     },
     "execution_count": 36,
     "metadata": {},
     "output_type": "execute_result"
    }
   ],
   "source": [
    "lang[-1]"
   ]
  },
  {
   "cell_type": "markdown",
   "id": "15ab576c-164f-4d67-997c-0c4f12e2ffc5",
   "metadata": {},
   "source": [
    "# Control Flow \n",
    "* More Control Flow Tools = Python documentation\n",
    "* 제어문 - 조건문, 반복문"
   ]
  },
  {
   "cell_type": "code",
   "execution_count": 37,
   "id": "e9e4d0b8-8c8e-40fb-89a6-5c1397135423",
   "metadata": {},
   "outputs": [
    {
     "name": "stdout",
     "output_type": "stream",
     "text": [
      "python\n",
      "java\n",
      "c\n"
     ]
    }
   ],
   "source": [
    "for i in lang : \n",
    "    print(i)"
   ]
  },
  {
   "cell_type": "code",
   "execution_count": 40,
   "id": "8270151b-868c-4f7e-850b-2048a47ef235",
   "metadata": {},
   "outputs": [
    {
     "name": "stdout",
     "output_type": "stream",
     "text": [
      "python\n",
      "기타\n",
      "기타\n"
     ]
    }
   ],
   "source": [
    "for i in lang:\n",
    "    if i == 'python' :\n",
    "        print('python')\n",
    "    else : \n",
    "        print('기타')"
   ]
  },
  {
   "cell_type": "code",
   "execution_count": 44,
   "id": "00afe481-b027-4d08-980f-65054e1a0602",
   "metadata": {},
   "outputs": [
    {
     "name": "stdout",
     "output_type": "stream",
     "text": [
      "python\n",
      "java\n",
      "c\n"
     ]
    }
   ],
   "source": [
    "count = len(lang)\n",
    "for i in range(count):\n",
    "    print(lang[i])"
   ]
  },
  {
   "cell_type": "code",
   "execution_count": 48,
   "id": "f1507f75-a401-429e-a8e1-c9db70df9f44",
   "metadata": {},
   "outputs": [
    {
     "name": "stdout",
     "output_type": "stream",
     "text": [
      "java\n",
      "python\n",
      "java\n",
      "python\n",
      "java\n",
      "python\n",
      "java\n",
      "python\n",
      "java\n"
     ]
    }
   ],
   "source": [
    "for i in range(1,10):\n",
    "    if i %2 == 0 :\n",
    "        print('python')\n",
    "    else : \n",
    "        print('java')"
   ]
  },
  {
   "cell_type": "code",
   "execution_count": 52,
   "id": "6d8c60bd-b173-4ed8-a2ee-54ccadfd1f3f",
   "metadata": {},
   "outputs": [
    {
     "name": "stdout",
     "output_type": "stream",
     "text": [
      "0 python\n",
      "1 java\n",
      "2 c\n"
     ]
    }
   ],
   "source": [
    "for i,val in enumerate(lang):\n",
    "    print(i,val)"
   ]
  },
  {
   "cell_type": "markdown",
   "id": "282c3f9e-8035-4df6-ae3d-0ec629bab3ff",
   "metadata": {},
   "source": [
    "# 문자열"
   ]
  },
  {
   "cell_type": "code",
   "execution_count": 54,
   "id": "ae55d7d9-f484-4ee5-b93f-002729e02e2a",
   "metadata": {},
   "outputs": [
    {
     "data": {
      "text/plain": [
       "' 경기도 성남시 분당구 불정로 6 NAVER 그린팩토리 16층 '"
      ]
     },
     "execution_count": 54,
     "metadata": {},
     "output_type": "execute_result"
    }
   ],
   "source": [
    "address = ' 경기도 성남시 분당구 불정로 6 NAVER 그린팩토리 16층 '\n",
    "address"
   ]
  },
  {
   "cell_type": "code",
   "execution_count": 55,
   "id": "74b93392-5df8-426b-b60d-ca5fc47ea10b",
   "metadata": {},
   "outputs": [
    {
     "data": {
      "text/plain": [
       "'경기도 성남시 분당구 불정로 6 NAVER 그린팩토리 16층'"
      ]
     },
     "execution_count": 55,
     "metadata": {},
     "output_type": "execute_result"
    }
   ],
   "source": [
    "# 공백제거\n",
    "address = address.strip()\n",
    "address"
   ]
  },
  {
   "cell_type": "code",
   "execution_count": 56,
   "id": "b4f4d6b2-35c5-4f85-a398-b5cb35fc1b3f",
   "metadata": {},
   "outputs": [
    {
     "data": {
      "text/plain": [
       "33"
      ]
     },
     "execution_count": 56,
     "metadata": {},
     "output_type": "execute_result"
    }
   ],
   "source": [
    "len(address)"
   ]
  },
  {
   "cell_type": "code",
   "execution_count": 59,
   "id": "66a3c614-2b71-4a59-9fdf-17fd037602a9",
   "metadata": {},
   "outputs": [
    {
     "data": {
      "text/plain": [
       "['경기도', '성남시', '분당구', '불정로', '6', 'NAVER', '그린팩토리', '16층']"
      ]
     },
     "execution_count": 59,
     "metadata": {},
     "output_type": "execute_result"
    }
   ],
   "source": [
    "# 공백 기준으로 문자열 분리 \n",
    "address_list = address.split()\n",
    "address_list"
   ]
  },
  {
   "cell_type": "markdown",
   "id": "6616b9ab-2317-4499-aeec-9822e33035ba",
   "metadata": {},
   "source": [
    "* 슬라이싱, startswith, in을 통해 문자열에 경기가 있는지 확인하기"
   ]
  },
  {
   "cell_type": "code",
   "execution_count": 61,
   "id": "b0fda92a-16f6-4fb9-9d83-ff5f422d2fff",
   "metadata": {},
   "outputs": [
    {
     "data": {
      "text/plain": [
       "'경기'"
      ]
     },
     "execution_count": 61,
     "metadata": {},
     "output_type": "execute_result"
    }
   ],
   "source": [
    "address[:2]"
   ]
  },
  {
   "cell_type": "code",
   "execution_count": 62,
   "id": "17f8083c-4020-4ed1-ae13-95ef7afc002a",
   "metadata": {},
   "outputs": [
    {
     "data": {
      "text/plain": [
       "True"
      ]
     },
     "execution_count": 62,
     "metadata": {},
     "output_type": "execute_result"
    }
   ],
   "source": [
    "address.startswith('경기')"
   ]
  },
  {
   "cell_type": "code",
   "execution_count": 64,
   "id": "8f396327-9aef-4b13-9ab5-224534222c15",
   "metadata": {},
   "outputs": [
    {
     "data": {
      "text/plain": [
       "True"
      ]
     },
     "execution_count": 64,
     "metadata": {},
     "output_type": "execute_result"
    }
   ],
   "source": [
    "'경기' in address\n"
   ]
  },
  {
   "cell_type": "markdown",
   "id": "ff3615cf-e83b-47e9-bc64-b40f29df3138",
   "metadata": {},
   "source": [
    "# 리스트\n",
    "* 문자열에서 쓰는 방법과 비슷하게 메소드 등을 사용할 수 있습니다."
   ]
  },
  {
   "cell_type": "code",
   "execution_count": 66,
   "id": "252ed418-f8e3-4558-8ce6-e6d28a6e0bd7",
   "metadata": {},
   "outputs": [
    {
     "data": {
      "text/plain": [
       "'분당구'"
      ]
     },
     "execution_count": 66,
     "metadata": {},
     "output_type": "execute_result"
    }
   ],
   "source": [
    "gu =address_list[2]\n",
    "gu"
   ]
  },
  {
   "cell_type": "code",
   "execution_count": 67,
   "id": "660e91a8-8242-4288-bb15-aff12e522790",
   "metadata": {},
   "outputs": [
    {
     "data": {
      "text/plain": [
       "'불정로'"
      ]
     },
     "execution_count": 67,
     "metadata": {},
     "output_type": "execute_result"
    }
   ],
   "source": [
    "street = address_list[3]\n",
    "street"
   ]
  },
  {
   "cell_type": "code",
   "execution_count": 68,
   "id": "8962c362-c062-4823-80d9-889849c1426e",
   "metadata": {},
   "outputs": [
    {
     "data": {
      "text/plain": [
       "'16층'"
      ]
     },
     "execution_count": 68,
     "metadata": {},
     "output_type": "execute_result"
    }
   ],
   "source": [
    "address_list[-1]"
   ]
  },
  {
   "cell_type": "code",
   "execution_count": 71,
   "id": "ebf79460-726f-4e3b-9b5c-cf81931ec8c1",
   "metadata": {},
   "outputs": [
    {
     "data": {
      "text/plain": [
       "'경기도 성남시 분당구 불정로 6 NAVER 그린팩토리 16층'"
      ]
     },
     "execution_count": 71,
     "metadata": {},
     "output_type": "execute_result"
    }
   ],
   "source": [
    "# ' '.join(리스트)를 사용하면 리스트를 공백 문자열로 연결 할 수 있습니다. \n",
    "' '.join(address_list)"
   ]
  },
  {
   "cell_type": "code",
   "execution_count": 73,
   "id": "d2b5ca03-93a5-476d-ab25-1294feaf6285",
   "metadata": {},
   "outputs": [
    {
     "data": {
      "text/plain": [
       "False"
      ]
     },
     "execution_count": 73,
     "metadata": {},
     "output_type": "execute_result"
    }
   ],
   "source": [
    "'경기' in address_list"
   ]
  },
  {
   "cell_type": "code",
   "execution_count": 74,
   "id": "db20ea23-0cfa-4167-8f7a-65300a49ed07",
   "metadata": {},
   "outputs": [
    {
     "data": {
      "text/plain": [
       "True"
      ]
     },
     "execution_count": 74,
     "metadata": {},
     "output_type": "execute_result"
    }
   ],
   "source": [
    "'경기도' in address_list"
   ]
  },
  {
   "cell_type": "code",
   "execution_count": 75,
   "id": "7f4be5d7-f8b3-4e3e-b88b-bd9199254af2",
   "metadata": {},
   "outputs": [
    {
     "data": {
      "text/plain": [
       "True"
      ]
     },
     "execution_count": 75,
     "metadata": {},
     "output_type": "execute_result"
    }
   ],
   "source": [
    "'분당구' in address_list"
   ]
  }
 ],
 "metadata": {
  "kernelspec": {
   "display_name": "Python 3 (ipykernel)",
   "language": "python",
   "name": "python3"
  },
  "language_info": {
   "codemirror_mode": {
    "name": "ipython",
    "version": 3
   },
   "file_extension": ".py",
   "mimetype": "text/x-python",
   "name": "python",
   "nbconvert_exporter": "python",
   "pygments_lexer": "ipython3",
   "version": "3.9.12"
  }
 },
 "nbformat": 4,
 "nbformat_minor": 5
}
